{
 "cells": [
  {
   "cell_type": "code",
   "execution_count": 1,
   "id": "fatty-state",
   "metadata": {},
   "outputs": [],
   "source": [
    "#Варіант21\n",
    "from matplotlib import pyplot as plt\n",
    "import numpy \n",
    "import math\n",
    "from scipy import stats\n",
    "from sklearn.preprocessing import StandardScaler\n",
    "from seaborn import heatmap\n",
    "from numpy import linalg \n",
    "#Завантаження данних в data_list з файлу А21.txt\n",
    "way = \"C:\\\\Users\\\\myshu\\\\Downloads\\\\Лабораторні2021\\\\A21.txt\"\n",
    "A_list = []\n",
    "with open(way, 'r') as file:\n",
    "    for line in file:\n",
    "        A_list.append(line.split(\",\"))\n",
    "data_list = []\n",
    "n = 12\n",
    "i = 0\n",
    "while i < n:\n",
    "    temp_list = []\n",
    "    for el in A_list:\n",
    "        temp_list.append(float(el[i]))\n",
    "    data_list.append(temp_list)\n",
    "    i = i + 1"
   ]
  },
  {
   "cell_type": "markdown",
   "id": "hindu-intake",
   "metadata": {},
   "source": [
    "##### Завдання 2\n",
    "Провести кластеризацію даних"
   ]
  },
  {
   "cell_type": "markdown",
   "id": "governing-beach",
   "metadata": {},
   "source": [
    "Функція для обчислення відстані Евкліда між точакми в n-вимірному та 3-х вимірному просторі"
   ]
  },
  {
   "cell_type": "code",
   "execution_count": 2,
   "id": "cultural-northeast",
   "metadata": {},
   "outputs": [],
   "source": [
    "def evklid(list_a, list_b, a_or_b='n'):\n",
    "    if a_or_b == 'n':\n",
    "        i = 0\n",
    "        d = 0\n",
    "        while i < len(list_a):\n",
    "            d = d + pow(list_a[i]-list_b[i], 2)\n",
    "            i = i + 1\n",
    "    elif a_or_b == '3':\n",
    "        d = pow(list_a[2]-list_b[2], 2) + pow(list_a[5]-list_b[5], 2) + pow(list_a[9]-list_b[9], 2) \n",
    "    return math.sqrt(d)"
   ]
  },
  {
   "cell_type": "markdown",
   "id": "generous-buyer",
   "metadata": {},
   "source": [
    "Функція для створення точки n-вимірного простору"
   ]
  },
  {
   "cell_type": "code",
   "execution_count": 3,
   "id": "alien-daisy",
   "metadata": {},
   "outputs": [],
   "source": [
    "def create_point(i):\n",
    "    tmp_list = [data_list[0][i], data_list[1][i], data_list[2][i], data_list[3][i], data_list[4][i], data_list[5][i],\n",
    "               data_list[6][i], data_list[7][i], data_list[8][i], data_list[9][i], data_list[10][i], data_list[11][i]]\n",
    "    return tmp_list"
   ]
  },
  {
   "cell_type": "markdown",
   "id": "wrong-engineer",
   "metadata": {},
   "source": [
    "Вибір початкових центрів мас"
   ]
  },
  {
   "cell_type": "code",
   "execution_count": 4,
   "id": "characteristic-violence",
   "metadata": {},
   "outputs": [],
   "source": [
    "list1 = [0]\n",
    "list2 = [300]\n",
    "list3 = [540]\n",
    "list4 = [130]\n",
    "list5 = [990]"
   ]
  },
  {
   "cell_type": "markdown",
   "id": "legendary-thermal",
   "metadata": {},
   "source": [
    "Функція для перерахунку центру маси кластера"
   ]
  },
  {
   "cell_type": "code",
   "execution_count": 5,
   "id": "wound-employer",
   "metadata": {},
   "outputs": [],
   "source": [
    "def mass_centre(some_list, k):\n",
    "    tmp_list = [0,0,0,0,0,0,0,0,0,0,0,0]\n",
    "    for el in some_list:\n",
    "        tmp_list[0] = tmp_list[0] + data_list[0][el]\n",
    "        tmp_list[1] = tmp_list[1] + data_list[1][el]\n",
    "        tmp_list[2] = tmp_list[2] + data_list[2][el]\n",
    "        tmp_list[3] = tmp_list[3] + data_list[3][el]\n",
    "        tmp_list[4] = tmp_list[4] + data_list[4][el]\n",
    "        tmp_list[5] = tmp_list[5] + data_list[5][el]\n",
    "        tmp_list[6] = tmp_list[6] + data_list[6][el]\n",
    "        tmp_list[7] = tmp_list[7] + data_list[7][el]\n",
    "        tmp_list[8] = tmp_list[8] + data_list[8][el]\n",
    "        tmp_list[9] = tmp_list[9] + data_list[9][el]\n",
    "        tmp_list[10] = tmp_list[10] + data_list[10][el]\n",
    "        tmp_list[11] = tmp_list[11] + data_list[11][el]\n",
    "    i = 0\n",
    "    while i < len(tmp_list):\n",
    "        tmp_list[i] = tmp_list[i]/len(some_list)\n",
    "        i = i + 1\n",
    "    i = 0\n",
    "    while i < 12:\n",
    "        data_list[i][k] = tmp_list[i]\n",
    "        i = i + 1\n",
    "    return tmp_list"
   ]
  },
  {
   "cell_type": "code",
   "execution_count": 6,
   "id": "requested-great",
   "metadata": {},
   "outputs": [],
   "source": [
    "i = 0\n",
    "while i < 12:\n",
    "    data_list[i].append(0)\n",
    "    data_list[i].append(0)\n",
    "    data_list[i].append(0)\n",
    "    data_list[i].append(0)\n",
    "    data_list[i].append(0)\n",
    "    i = i + 1"
   ]
  },
  {
   "cell_type": "markdown",
   "id": "spare-madagascar",
   "metadata": {},
   "source": [
    "Алгоритм k-means для k=5 підмножин"
   ]
  },
  {
   "cell_type": "code",
   "execution_count": 7,
   "id": "closing-information",
   "metadata": {},
   "outputs": [],
   "source": [
    "def k_means(a_or_b):\n",
    "    tmp_list1 = []\n",
    "    tmp_list2 = []\n",
    "    tmp_list3 = []\n",
    "    tmp_list4 = []\n",
    "    tmp_list5 = []\n",
    "    vec1 = create_point(5000)\n",
    "    vec2 = create_point(5001)\n",
    "    vec3 = create_point(5002)\n",
    "    vec4 = create_point(5003)\n",
    "    vec5 = create_point(5004)\n",
    "    i = 0\n",
    "    while i < 5000:\n",
    "        tmp_vec = create_point(i)\n",
    "        d1 = evklid(vec1, tmp_vec, a_or_b)\n",
    "        d2 = evklid(vec2, tmp_vec, a_or_b)\n",
    "        d3 = evklid(vec3, tmp_vec, a_or_b)\n",
    "        d4 = evklid(vec4, tmp_vec, a_or_b)\n",
    "        d5 = evklid(vec5, tmp_vec, a_or_b)\n",
    "        d_list = [d1, d2, d3, d4, d5]\n",
    "        if min(d_list) == d1:\n",
    "            tmp_list1.append(i)\n",
    "        elif min(d_list) == d2:\n",
    "            tmp_list2.append(i)\n",
    "        elif min(d_list) == d3:\n",
    "            tmp_list3.append(i)\n",
    "        elif min(d_list) == d4:\n",
    "            tmp_list4.append(i)\n",
    "        elif min(d_list) == d5:\n",
    "            tmp_list5.append(i)\n",
    "        i = i + 1\n",
    "    return tmp_list1, tmp_list2, tmp_list3, tmp_list4, tmp_list5"
   ]
  },
  {
   "cell_type": "markdown",
   "id": "seeing-allocation",
   "metadata": {},
   "source": [
    "Проводимо кластнризацію даних"
   ]
  },
  {
   "cell_type": "code",
   "execution_count": 8,
   "id": "excellent-handle",
   "metadata": {},
   "outputs": [
    {
     "name": "stdout",
     "output_type": "stream",
     "text": [
      "Кількість елементів в 1му кластері 818\n",
      "Кількість елементів в 2му кластері 1003\n",
      "Кількість елементів в 3му кластері 2593\n",
      "Кількість елементів в 4му кластері 242\n",
      "Кількість елементів в 5му кластері 344\n"
     ]
    }
   ],
   "source": [
    "\n",
    "t = True\n",
    "while t:\n",
    "    mass_centre(list1, 5000)\n",
    "    mass_centre(list2, 5001)\n",
    "    mass_centre(list3, 5002)\n",
    "    mass_centre(list4, 5003)\n",
    "    mass_centre(list5, 5004)\n",
    "    list1_1, list2_1, list3_1, list4_1, list5_1 = k_means('n')\n",
    "\n",
    "    if list1_1 == list1 and list2_1  == list2 and list3_1 == list3 and list4_1 == list4 and list5_1 == list5:\n",
    "        t = False\n",
    "    else:\n",
    "        list1 = list1_1.copy()\n",
    "        list2 = list2_1.copy()\n",
    "        list3 = list3_1.copy()\n",
    "        list4 = list4_1.copy()\n",
    "        list5 = list5_1.copy()\n",
    "\n",
    "print(\"Кількість елементів в 1му кластері \"+str(len(list1_1)))\n",
    "print(\"Кількість елементів в 2му кластері \"+str(len(list2_1)))\n",
    "print(\"Кількість елементів в 3му кластері \"+str(len(list3_1)))\n",
    "print(\"Кількість елементів в 4му кластері \"+str(len(list4_1)))\n",
    "print(\"Кількість елементів в 5му кластері \"+str(len(list5_1)))"
   ]
  },
  {
   "cell_type": "markdown",
   "id": "accomplished-freeze",
   "metadata": {},
   "source": [
    "Вибір початкових центрів мас"
   ]
  },
  {
   "cell_type": "code",
   "execution_count": 9,
   "id": "duplicate-italy",
   "metadata": {},
   "outputs": [],
   "source": [
    "list1 = [0]\n",
    "list2 = [300]\n",
    "list3 = [540]\n",
    "list4 = [130]\n",
    "list5 = [990]"
   ]
  },
  {
   "cell_type": "markdown",
   "id": "hourly-schedule",
   "metadata": {},
   "source": [
    "Проводимо кластеризацію даних трьох головних факторів"
   ]
  },
  {
   "cell_type": "code",
   "execution_count": 10,
   "id": "buried-samba",
   "metadata": {},
   "outputs": [
    {
     "name": "stdout",
     "output_type": "stream",
     "text": [
      "Кількість елементів в 1му кластері 798\n",
      "Кількість елементів в 2му кластері 1157\n",
      "Кількість елементів в 3му кластері 2498\n",
      "Кількість елементів в 4му кластері 232\n",
      "Кількість елементів в 5му кластері 315\n"
     ]
    }
   ],
   "source": [
    "\n",
    "t = True\n",
    "while t:\n",
    "    mass_centre(list1, 5000)\n",
    "    mass_centre(list2, 5001)\n",
    "    mass_centre(list3, 5002)\n",
    "    mass_centre(list4, 5003)\n",
    "    mass_centre(list5, 5004)\n",
    "    list1_2, list2_2, list3_2, list4_2, list5_2 = k_means('3')\n",
    "\n",
    "    if list1_2 == list1 and list2_2  == list2 and list3_2 == list3 and list4_2 == list4 and list5_2 == list5:\n",
    "        t = False\n",
    "    else:\n",
    "        list1 = list1_2.copy()\n",
    "        list2 = list2_2.copy()\n",
    "        list3 = list3_2.copy()\n",
    "        list4 = list4_2.copy()\n",
    "        list5 = list5_2.copy()\n",
    "\n",
    "print(\"Кількість елементів в 1му кластері \"+str(len(list1_2)))\n",
    "print(\"Кількість елементів в 2му кластері \"+str(len(list2_2)))\n",
    "print(\"Кількість елементів в 3му кластері \"+str(len(list3_2)))\n",
    "print(\"Кількість елементів в 4му кластері \"+str(len(list4_2)))\n",
    "print(\"Кількість елементів в 5му кластері \"+str(len(list5_2)))"
   ]
  },
  {
   "cell_type": "markdown",
   "id": "supreme-parking",
   "metadata": {},
   "source": [
    "Кількість елементів що не співпадає в першому кластері"
   ]
  },
  {
   "cell_type": "code",
   "execution_count": 11,
   "id": "cathedral-conservation",
   "metadata": {},
   "outputs": [
    {
     "data": {
      "text/plain": [
       "182"
      ]
     },
     "execution_count": 11,
     "metadata": {},
     "output_type": "execute_result"
    }
   ],
   "source": [
    "i = 0\n",
    "for el in list1_2:\n",
    "    if el not in list1_1:\n",
    "        i = i + 1\n",
    "i"
   ]
  },
  {
   "cell_type": "markdown",
   "id": "continued-quilt",
   "metadata": {},
   "source": [
    "Кількість елементів що не співпадає в другому кластері"
   ]
  },
  {
   "cell_type": "code",
   "execution_count": 12,
   "id": "genetic-deviation",
   "metadata": {},
   "outputs": [
    {
     "data": {
      "text/plain": [
       "207"
      ]
     },
     "execution_count": 12,
     "metadata": {},
     "output_type": "execute_result"
    }
   ],
   "source": [
    "i = 0\n",
    "for el in list2_2:\n",
    "    if el not in list2_1:\n",
    "        i = i + 1\n",
    "i"
   ]
  },
  {
   "cell_type": "markdown",
   "id": "genetic-saver",
   "metadata": {},
   "source": [
    "Кількість елементів що не співпадає в третьому кластері"
   ]
  },
  {
   "cell_type": "code",
   "execution_count": 13,
   "id": "golden-seattle",
   "metadata": {},
   "outputs": [
    {
     "data": {
      "text/plain": [
       "60"
      ]
     },
     "execution_count": 13,
     "metadata": {},
     "output_type": "execute_result"
    }
   ],
   "source": [
    "i = 0\n",
    "for el in list3_2:\n",
    "    if el not in list3_1:\n",
    "        i = i + 1\n",
    "i"
   ]
  },
  {
   "cell_type": "markdown",
   "id": "ranking-illustration",
   "metadata": {},
   "source": [
    "Кількість елементів що не співпадає в четвертому кластері"
   ]
  },
  {
   "cell_type": "code",
   "execution_count": 14,
   "id": "bright-pathology",
   "metadata": {},
   "outputs": [
    {
     "data": {
      "text/plain": [
       "33"
      ]
     },
     "execution_count": 14,
     "metadata": {},
     "output_type": "execute_result"
    }
   ],
   "source": [
    "i = 0\n",
    "for el in list4_2:\n",
    "    if el not in list4_1:\n",
    "        i = i + 1\n",
    "i"
   ]
  },
  {
   "cell_type": "markdown",
   "id": "sophisticated-allah",
   "metadata": {},
   "source": [
    "Кількість елементів що не співпадає в п'ятому кластері"
   ]
  },
  {
   "cell_type": "code",
   "execution_count": 15,
   "id": "noted-concentration",
   "metadata": {},
   "outputs": [
    {
     "data": {
      "text/plain": [
       "29"
      ]
     },
     "execution_count": 15,
     "metadata": {},
     "output_type": "execute_result"
    }
   ],
   "source": [
    "i = 0\n",
    "for el in list5_1:\n",
    "    if el not in list5_2:\n",
    "        i = i + 1\n",
    "i"
   ]
  },
  {
   "cell_type": "markdown",
   "id": "eight-feature",
   "metadata": {},
   "source": [
    "Всього з 5000 точок 511 знаходяться в різних кластерах при нормальній кластеризації та при кластеризації по трьох головних факторах"
   ]
  },
  {
   "cell_type": "code",
   "execution_count": 16,
   "id": "published-nursery",
   "metadata": {},
   "outputs": [],
   "source": [
    "i = 0\n",
    "while i < 12:\n",
    "    data_list[i].append(0)\n",
    "    data_list[i].append(0)\n",
    "    i = i + 1"
   ]
  },
  {
   "cell_type": "markdown",
   "id": "statistical-acrobat",
   "metadata": {},
   "source": [
    "Вибір початкових центрів мас"
   ]
  },
  {
   "cell_type": "code",
   "execution_count": 17,
   "id": "latest-villa",
   "metadata": {},
   "outputs": [],
   "source": [
    "list1 = [0]\n",
    "list2 = [100]\n",
    "list3 = [150]\n",
    "list4 = [200]\n",
    "list5 = [950]\n",
    "list6 = [980]\n",
    "list7 = [990]"
   ]
  },
  {
   "cell_type": "markdown",
   "id": "collect-underground",
   "metadata": {},
   "source": [
    "Алгоритм k-means для k=7 підмножин"
   ]
  },
  {
   "cell_type": "code",
   "execution_count": 18,
   "id": "timely-mumbai",
   "metadata": {},
   "outputs": [],
   "source": [
    "def k_means(a_or_b):\n",
    "    tmp_list1 = []\n",
    "    tmp_list2 = []\n",
    "    tmp_list3 = []\n",
    "    tmp_list4 = []\n",
    "    tmp_list5 = []\n",
    "    tmp_list6 = []\n",
    "    tmp_list7 = []\n",
    "    vec1 = create_point(5000)\n",
    "    vec2 = create_point(5001)\n",
    "    vec3 = create_point(5002)\n",
    "    vec4 = create_point(5003)\n",
    "    vec5 = create_point(5004)\n",
    "    vec6 = create_point(5005)\n",
    "    vec7 = create_point(5006)\n",
    "    i = 0\n",
    "    while i < 5000:\n",
    "        tmp_vec = create_point(i)\n",
    "        d1 = evklid(vec1, tmp_vec, a_or_b)\n",
    "        d2 = evklid(vec2, tmp_vec, a_or_b)\n",
    "        d3 = evklid(vec3, tmp_vec, a_or_b)\n",
    "        d4 = evklid(vec4, tmp_vec, a_or_b)\n",
    "        d5 = evklid(vec5, tmp_vec, a_or_b)\n",
    "        d6 = evklid(vec6, tmp_vec, a_or_b)\n",
    "        d7 = evklid(vec7, tmp_vec, a_or_b)\n",
    "        d_list = [d1, d2, d3, d4, d5, d6, d7]\n",
    "        if min(d_list) == d1:\n",
    "            tmp_list1.append(i)\n",
    "        elif min(d_list) == d2:\n",
    "            tmp_list2.append(i)\n",
    "        elif min(d_list) == d3:\n",
    "            tmp_list3.append(i)\n",
    "        elif min(d_list) == d4:\n",
    "            tmp_list4.append(i)\n",
    "        elif min(d_list) == d5:\n",
    "            tmp_list5.append(i)\n",
    "        elif min(d_list) == d6:\n",
    "            tmp_list6.append(i)\n",
    "        elif min(d_list) == d7:\n",
    "            tmp_list7.append(i)\n",
    "        i = i + 1\n",
    "    return tmp_list1, tmp_list2, tmp_list3, tmp_list4, tmp_list5, tmp_list6, tmp_list7"
   ]
  },
  {
   "cell_type": "markdown",
   "id": "small-shipping",
   "metadata": {},
   "source": [
    "Проводимо кластеризацію даних "
   ]
  },
  {
   "cell_type": "code",
   "execution_count": 19,
   "id": "frank-strike",
   "metadata": {},
   "outputs": [
    {
     "name": "stdout",
     "output_type": "stream",
     "text": [
      "Кількість елементів в 1му кластері 970\n",
      "Кількість елементів в 2му кластері 2589\n",
      "Кількість елементів в 3му кластері 203\n",
      "Кількість елементів в 4му кластері 136\n",
      "Кількість елементів в 5му кластері 766\n",
      "Кількість елементів в 6му кластері 241\n",
      "Кількість елементів в 7му кластері 95\n"
     ]
    }
   ],
   "source": [
    "\n",
    "t = True\n",
    "while t:\n",
    "    mass_centre(list1, 5000)\n",
    "    mass_centre(list2, 5001)\n",
    "    mass_centre(list3, 5002)\n",
    "    mass_centre(list4, 5003)\n",
    "    mass_centre(list5, 5004)\n",
    "    mass_centre(list6, 5005)\n",
    "    mass_centre(list7, 5006)\n",
    "    list1_1, list2_1, list3_1, list4_1, list5_1, list6_1, list7_1 = k_means('n')\n",
    "\n",
    "    if list1_1 == list1 and list2_1  == list2 and list3_1 == list3 and list4_1 == list4 and list5_1 == list5 and list6_1 == list6 and list7_1 == list7:\n",
    "        t = False\n",
    "    else:\n",
    "        list1 = list1_1.copy()\n",
    "        list2 = list2_1.copy()\n",
    "        list3 = list3_1.copy()\n",
    "        list4 = list4_1.copy()\n",
    "        list5 = list5_1.copy()\n",
    "        list6 = list6_1.copy()\n",
    "        list7 = list7_1.copy()\n",
    "\n",
    "print(\"Кількість елементів в 1му кластері \"+str(len(list1_1)))\n",
    "print(\"Кількість елементів в 2му кластері \"+str(len(list2_1)))\n",
    "print(\"Кількість елементів в 3му кластері \"+str(len(list3_1)))\n",
    "print(\"Кількість елементів в 4му кластері \"+str(len(list4_1)))\n",
    "print(\"Кількість елементів в 5му кластері \"+str(len(list5_1)))\n",
    "print(\"Кількість елементів в 6му кластері \"+str(len(list6_1)))\n",
    "print(\"Кількість елементів в 7му кластері \"+str(len(list7_1)))"
   ]
  },
  {
   "cell_type": "code",
   "execution_count": null,
   "id": "enormous-welsh",
   "metadata": {},
   "outputs": [],
   "source": []
  },
  {
   "cell_type": "markdown",
   "id": "raised-market",
   "metadata": {},
   "source": [
    "Вибір початкових центрів мас"
   ]
  },
  {
   "cell_type": "code",
   "execution_count": 20,
   "id": "accompanied-dependence",
   "metadata": {},
   "outputs": [],
   "source": [
    "list1 = [0]\n",
    "list2 = [100]\n",
    "list3 = [150]\n",
    "list4 = [200]\n",
    "list5 = [950]\n",
    "list6 = [980]\n",
    "list7 = [990]"
   ]
  },
  {
   "cell_type": "markdown",
   "id": "presidential-implement",
   "metadata": {},
   "source": [
    "Проводимо кластеризацію даних трьох головних факторів"
   ]
  },
  {
   "cell_type": "code",
   "execution_count": 21,
   "id": "presidential-flush",
   "metadata": {},
   "outputs": [
    {
     "name": "stdout",
     "output_type": "stream",
     "text": [
      "Кількість елементів в 1му кластері 1007\n",
      "Кількість елементів в 2му кластері 2602\n",
      "Кількість елементів в 3му кластері 228\n",
      "Кількість елементів в 4му кластері 176\n",
      "Кількість елементів в 5му кластері 723\n",
      "Кількість елементів в 6му кластері 230\n",
      "Кількість елементів в 7му кластері 34\n"
     ]
    }
   ],
   "source": [
    "\n",
    "t = True\n",
    "while t:\n",
    "    mass_centre(list1, 5000)\n",
    "    mass_centre(list2, 5001)\n",
    "    mass_centre(list3, 5002)\n",
    "    mass_centre(list4, 5003)\n",
    "    mass_centre(list5, 5004)\n",
    "    mass_centre(list6, 5005)\n",
    "    mass_centre(list7, 5006)\n",
    "    list1_2, list2_2, list3_2, list4_2, list5_2, list6_2, list7_2 = k_means('3')\n",
    "\n",
    "    if list1_1 == list1 and list2_1  == list2 and list3_1 == list3 and list4_1 == list4 and list5_1 == list5 and list6_1 == list6 and list7_1 == list7:\n",
    "        t = False\n",
    "    else:\n",
    "        list1 = list1_1.copy()\n",
    "        list2 = list2_1.copy()\n",
    "        list3 = list3_1.copy()\n",
    "        list4 = list4_1.copy()\n",
    "        list5 = list5_1.copy()\n",
    "        list6 = list6_1.copy()\n",
    "        list7 = list7_1.copy()\n",
    "\n",
    "print(\"Кількість елементів в 1му кластері \"+str(len(list1_2)))\n",
    "print(\"Кількість елементів в 2му кластері \"+str(len(list2_2)))\n",
    "print(\"Кількість елементів в 3му кластері \"+str(len(list3_2)))\n",
    "print(\"Кількість елементів в 4му кластері \"+str(len(list4_2)))\n",
    "print(\"Кількість елементів в 5му кластері \"+str(len(list5_2)))\n",
    "print(\"Кількість елементів в 6му кластері \"+str(len(list6_2)))\n",
    "print(\"Кількість елементів в 7му кластері \"+str(len(list7_2)))"
   ]
  },
  {
   "cell_type": "code",
   "execution_count": 22,
   "id": "french-liberty",
   "metadata": {},
   "outputs": [
    {
     "data": {
      "text/plain": [
       "63"
      ]
     },
     "execution_count": 22,
     "metadata": {},
     "output_type": "execute_result"
    }
   ],
   "source": [
    "i = 0\n",
    "for el in list1_1:\n",
    "    if el not in list1_2:\n",
    "        i = i + 1\n",
    "i"
   ]
  },
  {
   "cell_type": "code",
   "execution_count": 23,
   "id": "opponent-ideal",
   "metadata": {},
   "outputs": [
    {
     "data": {
      "text/plain": [
       "84"
      ]
     },
     "execution_count": 23,
     "metadata": {},
     "output_type": "execute_result"
    }
   ],
   "source": [
    "i = 0\n",
    "for el in list5_2:\n",
    "    if el not in list5_1:\n",
    "        i = i + 1\n",
    "i"
   ]
  },
  {
   "cell_type": "code",
   "execution_count": 24,
   "id": "purple-worth",
   "metadata": {},
   "outputs": [
    {
     "data": {
      "text/plain": [
       "26"
      ]
     },
     "execution_count": 24,
     "metadata": {},
     "output_type": "execute_result"
    }
   ],
   "source": [
    "i = 0\n",
    "for el in list3_2:\n",
    "    if el not in list3_1:\n",
    "        i = i + 1\n",
    "i"
   ]
  },
  {
   "cell_type": "code",
   "execution_count": 25,
   "id": "gorgeous-klein",
   "metadata": {},
   "outputs": [
    {
     "data": {
      "text/plain": [
       "2"
      ]
     },
     "execution_count": 25,
     "metadata": {},
     "output_type": "execute_result"
    }
   ],
   "source": [
    "i = 0\n",
    "for el in list4_1:\n",
    "    if el not in list4_2:\n",
    "        i = i + 1\n",
    "i"
   ]
  },
  {
   "cell_type": "code",
   "execution_count": 26,
   "id": "fleet-rally",
   "metadata": {},
   "outputs": [
    {
     "data": {
      "text/plain": [
       "64"
      ]
     },
     "execution_count": 26,
     "metadata": {},
     "output_type": "execute_result"
    }
   ],
   "source": [
    "i = 0\n",
    "for el in list2_2:\n",
    "    if el not in list2_1:\n",
    "        i = i + 1\n",
    "i"
   ]
  },
  {
   "cell_type": "code",
   "execution_count": 27,
   "id": "restricted-essay",
   "metadata": {},
   "outputs": [
    {
     "data": {
      "text/plain": [
       "11"
      ]
     },
     "execution_count": 27,
     "metadata": {},
     "output_type": "execute_result"
    }
   ],
   "source": [
    "i = 0\n",
    "for el in list6_1:\n",
    "    if el not in list6_2:\n",
    "        i = i + 1\n",
    "i"
   ]
  },
  {
   "cell_type": "code",
   "execution_count": 28,
   "id": "thirty-compact",
   "metadata": {},
   "outputs": [
    {
     "data": {
      "text/plain": [
       "61"
      ]
     },
     "execution_count": 28,
     "metadata": {},
     "output_type": "execute_result"
    }
   ],
   "source": [
    "i = 0\n",
    "for el in list7_1:\n",
    "    if el not in list7_2:\n",
    "        i = i + 1\n",
    "i"
   ]
  },
  {
   "cell_type": "markdown",
   "id": "experienced-check",
   "metadata": {},
   "source": [
    "Всього з 5000 точок 285 знаходяться в різних кластерах при нормальній кластеризації та при кластеризації по трьох головних факторах"
   ]
  },
  {
   "cell_type": "markdown",
   "id": "south-cigarette",
   "metadata": {},
   "source": [
    "##### Завдання 1 \n",
    "Розробити програму для розпізнавання цифр методом класифікації та за допомогою мережі Хопфілда"
   ]
  },
  {
   "cell_type": "markdown",
   "id": "acting-bulletin",
   "metadata": {},
   "source": [
    "Створення бази цифр та образу, який потрібно розпізнати"
   ]
  },
  {
   "cell_type": "code",
   "execution_count": 29,
   "id": "floating-sleeve",
   "metadata": {},
   "outputs": [],
   "source": [
    "target = [[0,0,0,0,1,1,0,0,0,0,\n",
    "           0,0,0,0,1,1,0,0,0,0,\n",
    "           0,0,0,0,1,1,0,0,0,0,\n",
    "           0,0,0,0,1,1,0,0,0,0,\n",
    "           0,0,0,0,1,1,0,0,0,0,\n",
    "           0,0,0,0,1,1,0,0,0,0,\n",
    "           0,0,0,0,1,1,0,0,0,0,\n",
    "           0,0,0,0,1,1,0,0,0,0,\n",
    "           0,0,0,0,1,1,0,0,0,0,\n",
    "           0,0,0,0,1,1,0,0,0,0,\n",
    "           0,0,0,0,1,1,0,0,0,0],\n",
    "          \n",
    "          [0,0,1,1,1,1,1,1,1,0,\n",
    "           0,1,1,0,0,0,0,0,0,1,\n",
    "           1,1,0,0,0,0,0,0,1,1,\n",
    "           1,0,0,0,0,0,0,1,1,0,\n",
    "           0,0,0,0,0,0,1,1,0,0,\n",
    "           0,0,0,0,0,1,1,0,0,0,\n",
    "           0,0,0,0,1,1,0,0,0,0,\n",
    "           0,0,0,1,1,0,0,0,0,0,\n",
    "           0,0,1,1,0,0,0,0,0,0,\n",
    "           0,1,1,1,1,1,1,1,1,1,\n",
    "           1,1,1,1,1,1,1,1,1,1],\n",
    "          \n",
    "          [0,0,1,1,1,1,1,1,0,0,\n",
    "           0,1,1,1,1,1,1,1,1,0,\n",
    "           1,1,0,0,0,0,0,0,1,1,\n",
    "           1,0,0,0,0,0,0,0,1,1,\n",
    "           0,0,0,1,1,1,1,1,1,1,\n",
    "           0,0,1,1,1,1,1,1,0,0,\n",
    "           0,0,0,1,1,1,1,1,1,1,\n",
    "           1,0,0,0,0,0,0,0,1,1,\n",
    "           1,1,0,0,0,0,0,0,1,1,\n",
    "           0,1,1,1,1,1,1,1,1,0,\n",
    "           0,0,1,1,1,1,1,1,0,0],\n",
    "          \n",
    "          [0,0,0,0,0,0,1,1,0,0,\n",
    "           0,0,0,0,0,1,1,1,0,0,\n",
    "           0,0,0,0,1,0,1,1,0,0,\n",
    "           0,0,0,1,1,0,1,1,0,0,\n",
    "           0,0,1,1,0,0,1,1,0,0,\n",
    "           0,1,1,0,0,0,1,1,0,0,\n",
    "           1,1,1,1,1,1,1,1,1,1,\n",
    "           1,1,1,1,1,1,1,1,1,1,\n",
    "           0,0,0,0,0,0,1,1,0,0,\n",
    "           0,0,0,0,0,0,1,1,0,0,\n",
    "           0,0,0,0,0,0,1,1,0,0],\n",
    "          \n",
    "          [1,1,1,1,1,1,1,0,0,0,\n",
    "           1,1,1,1,1,1,1,0,0,0,\n",
    "           1,1,0,0,0,0,0,0,0,0,\n",
    "           1,1,1,1,1,1,1,1,0,0,\n",
    "           1,1,1,1,1,1,1,1,1,0,\n",
    "           0,0,0,0,0,0,0,0,1,1,\n",
    "           0,0,0,0,0,0,0,0,0,1,\n",
    "           0,0,0,0,0,0,0,0,0,1,\n",
    "           0,0,0,0,0,0,0,0,0,1,\n",
    "           0,0,0,0,0,0,0,0,1,0,\n",
    "           1,1,1,1,1,1,1,1,0,0],\n",
    "          \n",
    "          [0,0,1,1,1,1,1,1,1,1,\n",
    "           0,1,1,0,0,0,0,0,0,0,\n",
    "           0,1,0,0,0,0,0,0,0,0,\n",
    "           1,1,0,0,0,0,0,0,0,0,\n",
    "           1,0,0,0,0,0,0,0,0,0,\n",
    "           1,1,1,1,1,1,1,1,1,0,\n",
    "           1,1,1,0,0,0,0,1,1,1,\n",
    "           1,1,0,0,0,0,0,0,1,1,\n",
    "           1,1,0,0,0,0,0,0,1,1,\n",
    "           0,1,1,0,0,0,0,1,1,1,\n",
    "           0,0,1,1,1,1,1,1,1,0],\n",
    "          \n",
    "          [1,1,1,1,1,1,1,1,1,1,\n",
    "           1,1,1,1,1,1,1,1,1,1,\n",
    "           0,0,0,0,0,0,0,1,1,0,\n",
    "           0,0,0,0,0,0,1,1,0,0,\n",
    "           0,0,1,1,1,0,0,1,1,1,\n",
    "           0,1,1,1,0,0,1,1,1,0,\n",
    "           0,0,0,1,1,0,0,0,0,0,\n",
    "           0,0,1,1,0,0,0,0,0,0,\n",
    "           0,1,1,0,0,0,0,0,0,0,\n",
    "           1,1,0,0,0,0,0,0,0,0,\n",
    "           1,0,0,0,0,0,0,0,0,0],\n",
    "          \n",
    "          [0,0,0,0,1,1,0,0,0,0,\n",
    "           0,0,1,1,0,0,1,1,0,0,\n",
    "           0,1,1,0,0,0,0,1,1,0,\n",
    "           0,1,1,0,0,0,0,1,1,0,\n",
    "           0,0,1,1,0,0,1,1,0,0,\n",
    "           0,0,0,0,1,1,0,0,0,0,\n",
    "           0,0,1,1,0,0,1,1,0,0,\n",
    "           0,1,1,0,0,0,0,1,1,0,\n",
    "           0,1,1,0,0,0,0,1,1,0,\n",
    "           0,0,1,1,0,0,1,1,0,0,\n",
    "           0,0,0,0,1,1,0,0,0,0],\n",
    "          \n",
    "          [0,0,1,1,1,1,1,1,0,0,\n",
    "           0,1,1,1,1,1,1,1,1,0,\n",
    "           1,1,1,1,1,1,1,1,1,1,\n",
    "           1,1,1,1,1,1,1,1,1,1,\n",
    "           0,1,1,1,1,1,1,1,1,1,\n",
    "           0,0,1,1,1,1,1,1,1,1,\n",
    "           0,0,0,0,0,0,0,1,1,0,\n",
    "           0,0,0,0,0,0,1,1,0,0,\n",
    "           0,0,0,0,0,1,1,0,0,0,\n",
    "           0,0,0,0,1,1,0,0,0,0,\n",
    "           0,0,0,1,1,0,0,0,0,0],\n",
    "          \n",
    "          [0,0,0,0,0,0,0,0,0,0,\n",
    "           0,1,1,1,1,1,1,1,1,0,\n",
    "           1,1,1,1,1,1,1,1,1,1,\n",
    "           1,1,1,0,0,0,0,1,1,1,\n",
    "           1,1,0,0,0,0,0,0,1,1,\n",
    "           1,1,0,0,0,0,0,0,1,1,\n",
    "           1,1,0,0,0,0,0,0,1,1,\n",
    "           1,1,1,0,0,0,0,1,1,1,\n",
    "           1,1,1,1,1,1,1,1,1,1,\n",
    "           0,1,1,1,1,1,1,1,1,0,\n",
    "           0,0,0,0,0,0,0,0,0,0]\n",
    "          ]\n",
    "\n",
    "chars = ['1', '2', '3', '4', '5', '6', '7', '8', '9', '0']\n",
    "\n",
    "test =numpy.asfarray([0,0,1,1,1,1,1,1,1,1,\n",
    "           0,1,1,0,0,0,0,0,0,0,\n",
    "           0,1,0,0,0,0,0,0,0,0,\n",
    "           1,1,0,0,0,0,0,0,0,0,\n",
    "           1,0,0,0,0,0,0,0,0,0,\n",
    "           1,1,1,1,1,1,1,1,1,0,\n",
    "           1,1,1,0,0,0,0,1,1,1,\n",
    "           1,1,0,0,0,0,0,0,1,1,\n",
    "           1,1,0,0,0,0,0,0,1,1,\n",
    "           0,1,1,0,0,0,0,1,1,1,\n",
    "           0,0,1,1,1,1,1,1,1,0])"
   ]
  },
  {
   "cell_type": "markdown",
   "id": "hourly-eagle",
   "metadata": {},
   "source": [
    "Функція для обчислення Евклідової відстані між списками"
   ]
  },
  {
   "cell_type": "code",
   "execution_count": 30,
   "id": "fitting-drunk",
   "metadata": {},
   "outputs": [],
   "source": [
    "def evklid(list_a, list_b):\n",
    "    i = 0\n",
    "    dist = 0\n",
    "    while i < len(list_a):\n",
    "        dist = dist + pow(list_a[i] - list_b[i], 2)\n",
    "        i = i + 1\n",
    "    return math.sqrt(dist)"
   ]
  },
  {
   "cell_type": "markdown",
   "id": "juvenile-athens",
   "metadata": {},
   "source": [
    "Пошук найменшої відстанні від невідомої цифри до цифри з бази даних"
   ]
  },
  {
   "cell_type": "code",
   "execution_count": 31,
   "id": "republican-visit",
   "metadata": {},
   "outputs": [
    {
     "name": "stdout",
     "output_type": "stream",
     "text": [
      "Найменша відстань від невідомої цифри до цифри - 6\n"
     ]
    }
   ],
   "source": [
    "k = 0\n",
    "i = 0\n",
    "evk_dist = 10000000000000\n",
    "while i < len(target):\n",
    "    d = evklid(target[i],test)\n",
    "    if d < evk_dist:\n",
    "        evk_dist = d\n",
    "        k = i\n",
    "    i = i + 1\n",
    "print(\"Найменша відстань від невідомої цифри до цифри - \" + chars[k])"
   ]
  },
  {
   "cell_type": "markdown",
   "id": "meaning-dancing",
   "metadata": {},
   "source": [
    "Функція для обчислення відстані Мінковського між списками"
   ]
  },
  {
   "cell_type": "code",
   "execution_count": 32,
   "id": "authorized-convertible",
   "metadata": {},
   "outputs": [],
   "source": [
    "def minkovsk(list_a, list_b):\n",
    "    i = 0\n",
    "    dist = 0\n",
    "    while i < len(list_a):\n",
    "        dist = dist + pow(list_a[i] - list_b[i], 4)\n",
    "        i = i + 1\n",
    "    return pow(dist, 1/4)"
   ]
  },
  {
   "cell_type": "markdown",
   "id": "closing-scottish",
   "metadata": {},
   "source": [
    "Пошук найменшої відстанні від невідомої цифри до цифри з бази даних"
   ]
  },
  {
   "cell_type": "code",
   "execution_count": 33,
   "id": "particular-savage",
   "metadata": {},
   "outputs": [
    {
     "name": "stdout",
     "output_type": "stream",
     "text": [
      "Найменша відстань від невідомої цифри до цифри - 6\n"
     ]
    }
   ],
   "source": [
    "k = 0\n",
    "i = 0\n",
    "evk_dist = 10000000000000\n",
    "while i < len(target):\n",
    "    d = minkovsk(target[i],test)\n",
    "    if d < evk_dist:\n",
    "        evk_dist = d\n",
    "        k = i\n",
    "    i = i + 1\n",
    "print(\"Найменша відстань від невідомої цифри до цифри - \" + chars[k])"
   ]
  },
  {
   "cell_type": "markdown",
   "id": "thirty-asian",
   "metadata": {},
   "source": [
    "Функція для обчислення Хемінгової відстані між списками"
   ]
  },
  {
   "cell_type": "code",
   "execution_count": 34,
   "id": "major-midwest",
   "metadata": {},
   "outputs": [],
   "source": [
    "def heming(list_a, list_b):\n",
    "    i = 0\n",
    "    dist = 0\n",
    "    while i < len(list_a):\n",
    "        dist = dist + abs(list_a[i] - list_b[i])\n",
    "        i = i + 1\n",
    "    return dist"
   ]
  },
  {
   "cell_type": "markdown",
   "id": "everyday-executive",
   "metadata": {},
   "source": [
    "Пошук найменшої відстанні від невідомої цифри до цифри з бази даних"
   ]
  },
  {
   "cell_type": "code",
   "execution_count": 35,
   "id": "floral-batch",
   "metadata": {},
   "outputs": [
    {
     "name": "stdout",
     "output_type": "stream",
     "text": [
      "Найменша відстань від невідомої цифри до цифри - 6\n"
     ]
    }
   ],
   "source": [
    "k = 0\n",
    "i = 0\n",
    "evk_dist = 10000000000000\n",
    "while i < len(target):\n",
    "    d = heming(target[i],test)\n",
    "    if d < evk_dist:\n",
    "        evk_dist = d\n",
    "        k = i\n",
    "    i = i + 1\n",
    "print(\"Найменша відстань від невідомої цифри до цифри - \" + chars[k])"
   ]
  },
  {
   "cell_type": "markdown",
   "id": "indian-stability",
   "metadata": {},
   "source": [
    "Нейронна мережа Хопфілда"
   ]
  },
  {
   "cell_type": "markdown",
   "id": "related-catch",
   "metadata": {},
   "source": [
    "Реалізація мережв Хопфілда за допомогою фреймворку neurolab"
   ]
  },
  {
   "cell_type": "code",
   "execution_count": 36,
   "id": "advised-foundation",
   "metadata": {},
   "outputs": [
    {
     "name": "stdout",
     "output_type": "stream",
     "text": [
      "Перевірка чи може мережа розпізнати образи, що були в неї записані\n",
      "1 True\n",
      "2 True\n",
      "3 True\n",
      "4 True\n",
      "5 True\n",
      "6 True\n",
      "7 True\n",
      "8 True\n",
      "9 True\n",
      "0 True\n",
      "\n",
      "Пошук образу:\n",
      "1 False\n",
      "2 False\n",
      "3 False\n",
      "4 False\n",
      "5 False\n",
      "6 True\n",
      "7 False\n",
      "8 False\n",
      "9 False\n",
      "0 False\n"
     ]
    }
   ],
   "source": [
    "import numpy as np\n",
    "import neurolab as nl\n",
    "\n",
    "target = np.asfarray(target)\n",
    "target[target == 0] = -1\n",
    "\n",
    "net = nl.net.newhop(target)\n",
    "\n",
    "output = net.sim(target)\n",
    "print(\"Перевірка чи може мережа розпізнати образи, що були в неї записані\")\n",
    "for i in range(len(target)):\n",
    "    print(chars[i], (output[i] == target[i]).all())\n",
    "\n",
    "print(\"\\nПошук образу:\")\n",
    "test[test==0] = -1\n",
    "out = net.sim([test])\n",
    "print ('1', (out[0] == target[0]).all())\n",
    "print ('2', (out[0] == target[1]).all())\n",
    "print ('3', (out[0] == target[2]).all())\n",
    "print ('4', (out[0] == target[3]).all())\n",
    "print ('5', (out[0] == target[4]).all())\n",
    "print ('6', (out[0] == target[5]).all())\n",
    "print ('7', (out[0] == target[6]).all())\n",
    "print ('8', (out[0] == target[7]).all())\n",
    "print ('9', (out[0] == target[8]).all())\n",
    "print ('0', (out[0] == target[9]).all())"
   ]
  },
  {
   "cell_type": "markdown",
   "id": "knowing-diamond",
   "metadata": {},
   "source": [
    "Функція для порівняння двох списків"
   ]
  },
  {
   "cell_type": "code",
   "execution_count": 37,
   "id": "cubic-hypothesis",
   "metadata": {},
   "outputs": [],
   "source": [
    "def compare_two_lists(a_list, b_list):\n",
    "    i = 0\n",
    "    result = True\n",
    "    while i < len(a_list):\n",
    "        if(a_list[i] != b_list[i]):\n",
    "            result = False\n",
    "        i = i + 1\n",
    "    return result"
   ]
  },
  {
   "cell_type": "markdown",
   "id": "aging-antigua",
   "metadata": {},
   "source": [
    "Навчання мережі(Створення матриці вагових коефіцієнтів)"
   ]
  },
  {
   "cell_type": "code",
   "execution_count": 38,
   "id": "usual-minority",
   "metadata": {},
   "outputs": [
    {
     "data": {
      "text/plain": [
       "array([[ 0.  ,  0.1 ,  0.02, ..., -0.06,  0.  ,  0.02],\n",
       "       [ 0.1 ,  0.  ,  0.02, ..., -0.06,  0.  ,  0.02],\n",
       "       [ 0.02,  0.02,  0.  , ..., -0.02,  0.04,  0.02],\n",
       "       ...,\n",
       "       [-0.06, -0.06, -0.02, ...,  0.  ,  0.04,  0.02],\n",
       "       [ 0.  ,  0.  ,  0.04, ...,  0.04,  0.  ,  0.04],\n",
       "       [ 0.02,  0.02,  0.02, ...,  0.02,  0.04,  0.  ]])"
      ]
     },
     "execution_count": 38,
     "metadata": {},
     "output_type": "execute_result"
    }
   ],
   "source": [
    "N = 100\n",
    "W = np.zeros((N,N))\n",
    "i = 0\n",
    "k = 0\n",
    "while k < 10:\n",
    "    i = 0\n",
    "    while i < N:\n",
    "        j = 0\n",
    "        while j < N:\n",
    "            if (i!=j):\n",
    "                W[i][j] = W[i][j] + target[k][i]*target[k][j]\n",
    "            j = j + 1\n",
    "        i = i + 1\n",
    "    k = k + 1\n",
    "i = 0\n",
    "while i < N:\n",
    "        j = 0\n",
    "        while j < N:\n",
    "            if (i!=j):\n",
    "                W[i][j] = W[i][j]/N\n",
    "            j = j + 1\n",
    "        i = i + 1\n",
    "W"
   ]
  },
  {
   "cell_type": "markdown",
   "id": "american-research",
   "metadata": {},
   "source": [
    "Розпізнавання образу"
   ]
  },
  {
   "cell_type": "code",
   "execution_count": 40,
   "id": "consecutive-overhead",
   "metadata": {},
   "outputs": [
    {
     "name": "stdout",
     "output_type": "stream",
     "text": [
      "0\n",
      "Образ був розпізнаний як цифра - 6\n"
     ]
    }
   ],
   "source": [
    "j = 0\n",
    "k = 0\n",
    "Y_list = test.copy()\n",
    "while k < 20:\n",
    "    Z_list = []\n",
    "    j = 0\n",
    "    while j < N:\n",
    "        d = 0 \n",
    "        i = 0\n",
    "        while i < N:\n",
    "            d = d + W[i][j]*Y_list[i]\n",
    "            i = i + 1\n",
    "        if d > 0:\n",
    "            Z_list.append(1)\n",
    "        else:\n",
    "            Z_list.append(-1)\n",
    "        j = j + 1\n",
    "    num = 0\n",
    "    for el in target:\n",
    "        if (compare_two_lists(Z_list, el)):\n",
    "            k = 40\n",
    "            print(\"Образ був розпізнаний як цифра -\", chars[num])\n",
    "        num = num + 1   \n",
    "    Y_list = Z_list.copy()\n",
    "    k = k + 1\n",
    "if k != 41:\n",
    "    print(\"Образ не був розпізнаний\")"
   ]
  },
  {
   "cell_type": "code",
   "execution_count": null,
   "id": "corporate-statistics",
   "metadata": {},
   "outputs": [],
   "source": []
  },
  {
   "cell_type": "code",
   "execution_count": null,
   "id": "hired-estonia",
   "metadata": {},
   "outputs": [],
   "source": []
  }
 ],
 "metadata": {
  "kernelspec": {
   "display_name": "Python 3",
   "language": "python",
   "name": "python3"
  },
  "language_info": {
   "codemirror_mode": {
    "name": "ipython",
    "version": 3
   },
   "file_extension": ".py",
   "mimetype": "text/x-python",
   "name": "python",
   "nbconvert_exporter": "python",
   "pygments_lexer": "ipython3",
   "version": "3.6.4"
  }
 },
 "nbformat": 4,
 "nbformat_minor": 5
}
